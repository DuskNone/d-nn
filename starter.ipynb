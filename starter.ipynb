{
 "cells": [
  {
   "cell_type": "code",
   "execution_count": 1,
   "id": "1981a550",
   "metadata": {
    "_cell_guid": "b1076dfc-b9ad-4769-8c92-a6c4dae69d19",
    "_uuid": "8f2839f25d086af736a60e9eeb907d3b93b6e0e5",
    "execution": {
     "iopub.execute_input": "2023-03-18T05:11:54.242566Z",
     "iopub.status.busy": "2023-03-18T05:11:54.241767Z",
     "iopub.status.idle": "2023-03-18T05:11:54.256801Z",
     "shell.execute_reply": "2023-03-18T05:11:54.254871Z"
    },
    "papermill": {
     "duration": 0.025153,
     "end_time": "2023-03-18T05:11:54.259822",
     "exception": false,
     "start_time": "2023-03-18T05:11:54.234669",
     "status": "completed"
    },
    "tags": []
   },
   "outputs": [],
   "source": [
    "# This Python 3 environment comes with many helpful analytics libraries installed\n",
    "# It is defined by the kaggle/python Docker image: https://github.com/kaggle/docker-python\n",
    "# For example, here's several helpful packages to load\n",
    "\n",
    "import numpy as np # linear algebra\n",
    "import pandas as pd # data processing, CSV file I/O (e.g. pd.read_csv)\n",
    "\n",
    "# Input data files are available in the read-only \"../input/\" directory\n",
    "# For example, running this (by clicking run or pressing Shift+Enter) will list all files under the input directory\n",
    "\n",
    "import os\n",
    "for dirname, _, filenames in os.walk('/kaggle/input'):\n",
    "    for filename in filenames:\n",
    "        print(os.path.join(dirname, filename))\n",
    "\n",
    "# You can write up to 20GB to the current directory (/kaggle/working/) that gets preserved as output when you create a version using \"Save & Run All\" \n",
    "# You can also write temporary files to /kaggle/temp/, but they won't be saved outside of the current session"
   ]
  },
  {
   "cell_type": "markdown",
   "id": "13e7f1e9",
   "metadata": {
    "execution": {
     "iopub.execute_input": "2023-03-18T05:09:56.844482Z",
     "iopub.status.busy": "2023-03-18T05:09:56.844062Z",
     "iopub.status.idle": "2023-03-18T05:09:56.852474Z",
     "shell.execute_reply": "2023-03-18T05:09:56.850868Z",
     "shell.execute_reply.started": "2023-03-18T05:09:56.844447Z"
    },
    "papermill": {
     "duration": 0.002459,
     "end_time": "2023-03-18T05:11:54.264859",
     "exception": false,
     "start_time": "2023-03-18T05:11:54.262400",
     "status": "completed"
    },
    "tags": []
   },
   "source": [
    "# This prints a hello world statement, everyone loves those\n"
   ]
  },
  {
   "cell_type": "code",
   "execution_count": 2,
   "id": "7cbebba5",
   "metadata": {
    "execution": {
     "iopub.execute_input": "2023-03-18T05:11:54.273856Z",
     "iopub.status.busy": "2023-03-18T05:11:54.272613Z",
     "iopub.status.idle": "2023-03-18T05:11:54.280177Z",
     "shell.execute_reply": "2023-03-18T05:11:54.278706Z"
    },
    "papermill": {
     "duration": 0.015373,
     "end_time": "2023-03-18T05:11:54.283069",
     "exception": false,
     "start_time": "2023-03-18T05:11:54.267696",
     "status": "completed"
    },
    "tags": []
   },
   "outputs": [
    {
     "name": "stdout",
     "output_type": "stream",
     "text": [
      "hello world\n"
     ]
    }
   ],
   "source": [
    "print('hello world')"
   ]
  }
 ],
 "metadata": {
  "kernelspec": {
   "display_name": "Python 3",
   "language": "python",
   "name": "python3"
  },
  "language_info": {
   "codemirror_mode": {
    "name": "ipython",
    "version": 3
   },
   "file_extension": ".py",
   "mimetype": "text/x-python",
   "name": "python",
   "nbconvert_exporter": "python",
   "pygments_lexer": "ipython3",
   "version": "3.7.12"
  },
  "papermill": {
   "default_parameters": {},
   "duration": 11.644399,
   "end_time": "2023-03-18T05:11:55.007361",
   "environment_variables": {},
   "exception": null,
   "input_path": "__notebook__.ipynb",
   "output_path": "__notebook__.ipynb",
   "parameters": {},
   "start_time": "2023-03-18T05:11:43.362962",
   "version": "2.4.0"
  }
 },
 "nbformat": 4,
 "nbformat_minor": 5
}
